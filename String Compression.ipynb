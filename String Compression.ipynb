{
 "cells": [
  {
   "cell_type": "code",
   "execution_count": 9,
   "metadata": {
    "collapsed": true
   },
   "outputs": [],
   "source": [
    "def string_compression(original_string):\n",
    "    compressed_string=[]\n",
    "    temp=True\n",
    "    count=0\n",
    "    for i in original_string:\n",
    "        if(temp==True or i==temp):\n",
    "            count+=1\n",
    "            temp=i\n",
    "        else:\n",
    "            compressed_string.append(temp+str(count))\n",
    "            temp=i\n",
    "            count=1\n",
    "    compressed_string.append(temp+str(count))\n",
    "    \n",
    "    if((len(\"\".join(compressed_string))) > len(original_string)):\n",
    "        print(n)\n",
    "    else:\n",
    "        print(\"\".join(compressed_string))\n",
    "            \n",
    "        "
   ]
  },
  {
   "cell_type": "code",
   "execution_count": 13,
   "metadata": {},
   "outputs": [
    {
     "name": "stdout",
     "output_type": "stream",
     "text": [
      "aabdef\n"
     ]
    }
   ],
   "source": [
    "string_compression(\"aabdef\")"
   ]
  },
  {
   "cell_type": "code",
   "execution_count": 14,
   "metadata": {},
   "outputs": [
    {
     "name": "stdout",
     "output_type": "stream",
     "text": [
      "a2b1d4e2f1\n"
     ]
    }
   ],
   "source": [
    "string_compression(\"aabddddeef\")"
   ]
  },
  {
   "cell_type": "code",
   "execution_count": null,
   "metadata": {
    "collapsed": true
   },
   "outputs": [],
   "source": []
  }
 ],
 "metadata": {
  "kernelspec": {
   "display_name": "Python 3",
   "language": "python",
   "name": "python3"
  },
  "language_info": {
   "codemirror_mode": {
    "name": "ipython",
    "version": 3
   },
   "file_extension": ".py",
   "mimetype": "text/x-python",
   "name": "python",
   "nbconvert_exporter": "python",
   "pygments_lexer": "ipython3",
   "version": "3.6.0"
  }
 },
 "nbformat": 4,
 "nbformat_minor": 2
}
