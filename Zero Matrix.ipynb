{
 "cells": [
  {
   "cell_type": "code",
   "execution_count": 9,
   "metadata": {
    "collapsed": true
   },
   "outputs": [],
   "source": [
    "def zero_matrix(matrix,m,n):\n",
    "    rows_visited=[]\n",
    "    columns_visited=[]\n",
    "    for i in range(m):\n",
    "        for j in range(n):\n",
    "            if(matrix[i][j]==0 and (i not in rows_visited) and (j not in columns_visited) ):\n",
    "                matrix=make_elements_zero(matrix,i,j,m,n)\n",
    "                rows_visited.append(i)\n",
    "                columns_visited.append(j)\n",
    "                \n",
    "    return matrix\n",
    "\n",
    "def make_elements_zero(matrix,i,j,m,n):\n",
    "    for x in range(m):\n",
    "        matrix[x][j]=0\n",
    "    for y in range(n):\n",
    "        matrix[i][y]=0\n",
    "    return matrix    \n"
   ]
  },
  {
   "cell_type": "code",
   "execution_count": 10,
   "metadata": {},
   "outputs": [
    {
     "data": {
      "text/plain": [
       "[[1, 2, 3, 0], [0, 0, 0, 0], [4, 5, 8, 0]]"
      ]
     },
     "execution_count": 10,
     "metadata": {},
     "output_type": "execute_result"
    }
   ],
   "source": [
    "matrix=[[1,2,3,4],[5,6,7,0],[4,5,8,9]]\n",
    "zero_matrix(matrix,3,4)"
   ]
  }
 ],
 "metadata": {
  "kernelspec": {
   "display_name": "Python 3",
   "language": "python",
   "name": "python3"
  },
  "language_info": {
   "codemirror_mode": {
    "name": "ipython",
    "version": 3
   },
   "file_extension": ".py",
   "mimetype": "text/x-python",
   "name": "python",
   "nbconvert_exporter": "python",
   "pygments_lexer": "ipython3",
   "version": "3.6.0"
  }
 },
 "nbformat": 4,
 "nbformat_minor": 2
}
